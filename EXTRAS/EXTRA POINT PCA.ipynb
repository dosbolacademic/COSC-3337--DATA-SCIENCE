{
 "cells": [
  {
   "cell_type": "markdown",
   "id": "1fe9ae39",
   "metadata": {},
   "source": [
    "<h1><center>DOSBOL ALIEV</center></h1>\n",
    "<h1><center>MYUH 1867424</center></h1>\n",
    "<h1><center>PCA EXTRA CREDIT</center></h1>"
   ]
  },
  {
   "cell_type": "code",
   "execution_count": 125,
   "id": "582db660",
   "metadata": {},
   "outputs": [],
   "source": [
    "#PCA\n",
    "import pandas as pd\n",
    "import warnings\n",
    "warnings.filterwarnings(\"ignore\")\n",
    "df = pd.DataFrame(columns=['Student ID',\"Exam 1\",\"Exam 2\",\"Exam 3\"])"
   ]
  },
  {
   "cell_type": "code",
   "execution_count": 126,
   "id": "7a5b74b1",
   "metadata": {},
   "outputs": [],
   "source": [
    " df.loc[0] = ['Student 1',90.5,100,92]\n",
    "df.loc[1] = ['Student 2', 44.5,91,72]\n",
    "df.loc[2] = ['Student 3', 41,89,40]\n",
    "df.loc[3] = ['Student 4', 31,75,29]\n",
    "df.loc[4] = ['Student 5', 58.5,97,75]\n",
    "df.loc[5] = ['Student 6', 77.5,100,89]\n",
    "df.loc[6] = ['Student 7', 85,100,99]\n",
    "df.loc[7] = ['Student 8', 51,90,44]\n",
    "df.loc[8] = ['Student 9', 60.5,100,69]\n",
    "df.loc[9] = ['Student 10', 62,81,40]\n",
    "df.loc[10] = ['Student 11', 77,100,72]\n",
    "df.loc[11] = ['Student 12', 51.5,96,74]"
   ]
  },
  {
   "cell_type": "code",
   "execution_count": 127,
   "id": "327f8fc0",
   "metadata": {},
   "outputs": [
    {
     "data": {
      "text/html": [
       "<div>\n",
       "<style scoped>\n",
       "    .dataframe tbody tr th:only-of-type {\n",
       "        vertical-align: middle;\n",
       "    }\n",
       "\n",
       "    .dataframe tbody tr th {\n",
       "        vertical-align: top;\n",
       "    }\n",
       "\n",
       "    .dataframe thead th {\n",
       "        text-align: right;\n",
       "    }\n",
       "</style>\n",
       "<table border=\"1\" class=\"dataframe\">\n",
       "  <thead>\n",
       "    <tr style=\"text-align: right;\">\n",
       "      <th></th>\n",
       "      <th>Student ID</th>\n",
       "      <th>Exam 1</th>\n",
       "      <th>Exam 2</th>\n",
       "      <th>Exam 3</th>\n",
       "    </tr>\n",
       "  </thead>\n",
       "  <tbody>\n",
       "    <tr>\n",
       "      <th>0</th>\n",
       "      <td>Student 1</td>\n",
       "      <td>90.5</td>\n",
       "      <td>100</td>\n",
       "      <td>92</td>\n",
       "    </tr>\n",
       "    <tr>\n",
       "      <th>1</th>\n",
       "      <td>Student 2</td>\n",
       "      <td>44.5</td>\n",
       "      <td>91</td>\n",
       "      <td>72</td>\n",
       "    </tr>\n",
       "    <tr>\n",
       "      <th>2</th>\n",
       "      <td>Student 3</td>\n",
       "      <td>41.0</td>\n",
       "      <td>89</td>\n",
       "      <td>40</td>\n",
       "    </tr>\n",
       "    <tr>\n",
       "      <th>3</th>\n",
       "      <td>Student 4</td>\n",
       "      <td>31.0</td>\n",
       "      <td>75</td>\n",
       "      <td>29</td>\n",
       "    </tr>\n",
       "    <tr>\n",
       "      <th>4</th>\n",
       "      <td>Student 5</td>\n",
       "      <td>58.5</td>\n",
       "      <td>97</td>\n",
       "      <td>75</td>\n",
       "    </tr>\n",
       "    <tr>\n",
       "      <th>5</th>\n",
       "      <td>Student 6</td>\n",
       "      <td>77.5</td>\n",
       "      <td>100</td>\n",
       "      <td>89</td>\n",
       "    </tr>\n",
       "    <tr>\n",
       "      <th>6</th>\n",
       "      <td>Student 7</td>\n",
       "      <td>85.0</td>\n",
       "      <td>100</td>\n",
       "      <td>99</td>\n",
       "    </tr>\n",
       "    <tr>\n",
       "      <th>7</th>\n",
       "      <td>Student 8</td>\n",
       "      <td>51.0</td>\n",
       "      <td>90</td>\n",
       "      <td>44</td>\n",
       "    </tr>\n",
       "    <tr>\n",
       "      <th>8</th>\n",
       "      <td>Student 9</td>\n",
       "      <td>60.5</td>\n",
       "      <td>100</td>\n",
       "      <td>69</td>\n",
       "    </tr>\n",
       "    <tr>\n",
       "      <th>9</th>\n",
       "      <td>Student 10</td>\n",
       "      <td>62.0</td>\n",
       "      <td>81</td>\n",
       "      <td>40</td>\n",
       "    </tr>\n",
       "    <tr>\n",
       "      <th>10</th>\n",
       "      <td>Student 11</td>\n",
       "      <td>77.0</td>\n",
       "      <td>100</td>\n",
       "      <td>72</td>\n",
       "    </tr>\n",
       "    <tr>\n",
       "      <th>11</th>\n",
       "      <td>Student 12</td>\n",
       "      <td>51.5</td>\n",
       "      <td>96</td>\n",
       "      <td>74</td>\n",
       "    </tr>\n",
       "  </tbody>\n",
       "</table>\n",
       "</div>"
      ],
      "text/plain": [
       "    Student ID  Exam 1 Exam 2 Exam 3\n",
       "0    Student 1    90.5    100     92\n",
       "1    Student 2    44.5     91     72\n",
       "2    Student 3    41.0     89     40\n",
       "3    Student 4    31.0     75     29\n",
       "4    Student 5    58.5     97     75\n",
       "5    Student 6    77.5    100     89\n",
       "6    Student 7    85.0    100     99\n",
       "7    Student 8    51.0     90     44\n",
       "8    Student 9    60.5    100     69\n",
       "9   Student 10    62.0     81     40\n",
       "10  Student 11    77.0    100     72\n",
       "11  Student 12    51.5     96     74"
      ]
     },
     "execution_count": 127,
     "metadata": {},
     "output_type": "execute_result"
    }
   ],
   "source": [
    "df\n"
   ]
  },
  {
   "cell_type": "code",
   "execution_count": 128,
   "id": "1c7bf3eb",
   "metadata": {},
   "outputs": [],
   "source": [
    "# X is feature vectors\n",
    "X = df[['Exam 1','Exam 2',\"Exam 3\"]]\n"
   ]
  },
  {
   "cell_type": "code",
   "execution_count": 129,
   "id": "e6a3717d",
   "metadata": {},
   "outputs": [
    {
     "data": {
      "text/html": [
       "<div>\n",
       "<style scoped>\n",
       "    .dataframe tbody tr th:only-of-type {\n",
       "        vertical-align: middle;\n",
       "    }\n",
       "\n",
       "    .dataframe tbody tr th {\n",
       "        vertical-align: top;\n",
       "    }\n",
       "\n",
       "    .dataframe thead th {\n",
       "        text-align: right;\n",
       "    }\n",
       "</style>\n",
       "<table border=\"1\" class=\"dataframe\">\n",
       "  <thead>\n",
       "    <tr style=\"text-align: right;\">\n",
       "      <th></th>\n",
       "      <th>Exam 1</th>\n",
       "      <th>Exam 2</th>\n",
       "      <th>Exam 3</th>\n",
       "    </tr>\n",
       "  </thead>\n",
       "  <tbody>\n",
       "    <tr>\n",
       "      <th>0</th>\n",
       "      <td>90.5</td>\n",
       "      <td>100</td>\n",
       "      <td>92</td>\n",
       "    </tr>\n",
       "    <tr>\n",
       "      <th>1</th>\n",
       "      <td>44.5</td>\n",
       "      <td>91</td>\n",
       "      <td>72</td>\n",
       "    </tr>\n",
       "    <tr>\n",
       "      <th>2</th>\n",
       "      <td>41.0</td>\n",
       "      <td>89</td>\n",
       "      <td>40</td>\n",
       "    </tr>\n",
       "    <tr>\n",
       "      <th>3</th>\n",
       "      <td>31.0</td>\n",
       "      <td>75</td>\n",
       "      <td>29</td>\n",
       "    </tr>\n",
       "    <tr>\n",
       "      <th>4</th>\n",
       "      <td>58.5</td>\n",
       "      <td>97</td>\n",
       "      <td>75</td>\n",
       "    </tr>\n",
       "    <tr>\n",
       "      <th>5</th>\n",
       "      <td>77.5</td>\n",
       "      <td>100</td>\n",
       "      <td>89</td>\n",
       "    </tr>\n",
       "    <tr>\n",
       "      <th>6</th>\n",
       "      <td>85.0</td>\n",
       "      <td>100</td>\n",
       "      <td>99</td>\n",
       "    </tr>\n",
       "    <tr>\n",
       "      <th>7</th>\n",
       "      <td>51.0</td>\n",
       "      <td>90</td>\n",
       "      <td>44</td>\n",
       "    </tr>\n",
       "    <tr>\n",
       "      <th>8</th>\n",
       "      <td>60.5</td>\n",
       "      <td>100</td>\n",
       "      <td>69</td>\n",
       "    </tr>\n",
       "  </tbody>\n",
       "</table>\n",
       "</div>"
      ],
      "text/plain": [
       "   Exam 1 Exam 2 Exam 3\n",
       "0    90.5    100     92\n",
       "1    44.5     91     72\n",
       "2    41.0     89     40\n",
       "3    31.0     75     29\n",
       "4    58.5     97     75\n",
       "5    77.5    100     89\n",
       "6    85.0    100     99\n",
       "7    51.0     90     44\n",
       "8    60.5    100     69"
      ]
     },
     "execution_count": 129,
     "metadata": {},
     "output_type": "execute_result"
    }
   ],
   "source": [
    "X.head(9)\n"
   ]
  },
  {
   "cell_type": "code",
   "execution_count": 130,
   "id": "10934790",
   "metadata": {},
   "outputs": [
    {
     "data": {
      "text/html": [
       "<div>\n",
       "<style scoped>\n",
       "    .dataframe tbody tr th:only-of-type {\n",
       "        vertical-align: middle;\n",
       "    }\n",
       "\n",
       "    .dataframe tbody tr th {\n",
       "        vertical-align: top;\n",
       "    }\n",
       "\n",
       "    .dataframe thead th {\n",
       "        text-align: right;\n",
       "    }\n",
       "</style>\n",
       "<table border=\"1\" class=\"dataframe\">\n",
       "  <thead>\n",
       "    <tr style=\"text-align: right;\">\n",
       "      <th></th>\n",
       "      <th>Student ID</th>\n",
       "    </tr>\n",
       "  </thead>\n",
       "  <tbody>\n",
       "    <tr>\n",
       "      <th>0</th>\n",
       "      <td>Student 1</td>\n",
       "    </tr>\n",
       "    <tr>\n",
       "      <th>1</th>\n",
       "      <td>Student 2</td>\n",
       "    </tr>\n",
       "    <tr>\n",
       "      <th>2</th>\n",
       "      <td>Student 3</td>\n",
       "    </tr>\n",
       "    <tr>\n",
       "      <th>3</th>\n",
       "      <td>Student 4</td>\n",
       "    </tr>\n",
       "    <tr>\n",
       "      <th>4</th>\n",
       "      <td>Student 5</td>\n",
       "    </tr>\n",
       "    <tr>\n",
       "      <th>5</th>\n",
       "      <td>Student 6</td>\n",
       "    </tr>\n",
       "    <tr>\n",
       "      <th>6</th>\n",
       "      <td>Student 7</td>\n",
       "    </tr>\n",
       "    <tr>\n",
       "      <th>7</th>\n",
       "      <td>Student 8</td>\n",
       "    </tr>\n",
       "    <tr>\n",
       "      <th>8</th>\n",
       "      <td>Student 9</td>\n",
       "    </tr>\n",
       "    <tr>\n",
       "      <th>9</th>\n",
       "      <td>Student 10</td>\n",
       "    </tr>\n",
       "  </tbody>\n",
       "</table>\n",
       "</div>"
      ],
      "text/plain": [
       "   Student ID\n",
       "0   Student 1\n",
       "1   Student 2\n",
       "2   Student 3\n",
       "3   Student 4\n",
       "4   Student 5\n",
       "5   Student 6\n",
       "6   Student 7\n",
       "7   Student 8\n",
       "8   Student 9\n",
       "9  Student 10"
      ]
     },
     "execution_count": 130,
     "metadata": {},
     "output_type": "execute_result"
    }
   ],
   "source": [
    "Y = df[['Student ID']]\n",
    "Y.head(10)\n"
   ]
  },
  {
   "cell_type": "code",
   "execution_count": 131,
   "id": "d875bd70",
   "metadata": {},
   "outputs": [],
   "source": [
    " from sklearn.preprocessing import StandardScaler\n",
    "x_std = StandardScaler().fit_transform(X)\n"
   ]
  },
  {
   "cell_type": "code",
   "execution_count": 132,
   "id": "e1ac652f",
   "metadata": {},
   "outputs": [
    {
     "data": {
      "text/plain": [
       "array([[ 1.67950689,  0.84471295,  1.17898576],\n",
       "       [-0.92467233, -0.28157098,  0.26326867],\n",
       "       [-1.1228164 , -0.5318563 , -1.20187869],\n",
       "       [-1.68894232, -2.28385353, -1.70552309],\n",
       "       [-0.13209605,  0.46928497,  0.40062623],\n",
       "       [ 0.94354319,  0.84471295,  1.0416282 ],\n",
       "       [ 1.36813763,  0.84471295,  1.49948674],\n",
       "       [-0.55669048, -0.40671364, -1.01873527],\n",
       "       [-0.01887086,  0.84471295,  0.1259111 ],\n",
       "       [ 0.06604802, -1.53299758, -1.20187869],\n",
       "       [ 0.9152369 ,  0.84471295,  0.26326867],\n",
       "       [-0.52838419,  0.34414231,  0.35484037]])"
      ]
     },
     "execution_count": 132,
     "metadata": {},
     "output_type": "execute_result"
    }
   ],
   "source": [
    "x_std"
   ]
  },
  {
   "cell_type": "code",
   "execution_count": 133,
   "id": "db0ca57a",
   "metadata": {},
   "outputs": [
    {
     "name": "stdout",
     "output_type": "stream",
     "text": [
      "[[1.09090909 0.7931588  0.86244769]\n",
      " [0.7931588  1.09090909 0.95439631]\n",
      " [0.86244769 0.95439631 1.09090909]]\n"
     ]
    }
   ],
   "source": [
    " import numpy as np\n",
    "# features are columns from x_std\n",
    "features = x_std.T\n",
    "covariance_matrix = np.cov(features)\n",
    "print(covariance_matrix)\n"
   ]
  },
  {
   "cell_type": "code",
   "execution_count": 134,
   "id": "0585f318",
   "metadata": {},
   "outputs": [],
   "source": [
    "eig_vals, eig_vecs = np.linalg.eig(covariance_matrix)"
   ]
  },
  {
   "cell_type": "code",
   "execution_count": 135,
   "id": "28e3e4ff",
   "metadata": {},
   "outputs": [
    {
     "name": "stdout",
     "output_type": "stream",
     "text": [
      "Eigenvectors \n",
      "[[ 0.55801944  0.80747857 -0.19129207]\n",
      " [ 0.5795626  -0.54421384 -0.60657933]\n",
      " [ 0.5939036  -0.22761733  0.77166629]]\n"
     ]
    }
   ],
   "source": [
    "print('Eigenvectors \\n%s' %eig_vecs)"
   ]
  },
  {
   "cell_type": "code",
   "execution_count": 136,
   "id": "01ae0ded",
   "metadata": {},
   "outputs": [
    {
     "name": "stdout",
     "output_type": "stream",
     "text": [
      "\n",
      "Eigenvalues \n",
      "[2.83259745 0.31323392 0.12689591]\n"
     ]
    }
   ],
   "source": [
    " print('\\nEigenvalues \\n%s' %eig_vals)\n"
   ]
  },
  {
   "cell_type": "code",
   "execution_count": 137,
   "id": "2cc45bcd",
   "metadata": {},
   "outputs": [
    {
     "data": {
      "text/plain": [
       "0.8655158871588083"
      ]
     },
     "execution_count": 137,
     "metadata": {},
     "output_type": "execute_result"
    }
   ],
   "source": [
    "# We reduce dimension to 1 dimension, since 1 eigenvector has 73% (enough)␣\n",
    "eig_vals[0] / sum(eig_vals)\n"
   ]
  },
  {
   "cell_type": "code",
   "execution_count": 138,
   "id": "361d0a01",
   "metadata": {},
   "outputs": [],
   "source": [
    "projected_X = x_std.dot(eig_vecs.T[0])\n"
   ]
  },
  {
   "cell_type": "code",
   "execution_count": 139,
   "id": "ab020f27",
   "metadata": {},
   "outputs": [
    {
     "data": {
      "text/plain": [
       "array([ 2.12696543, -0.52281694, -1.64859749, -3.27901506,  0.43620122,\n",
       "        1.63470622,  2.14356202, -1.15139068,  0.55381278, -1.56541207,\n",
       "        1.15664023,  0.11534434])"
      ]
     },
     "execution_count": 139,
     "metadata": {},
     "output_type": "execute_result"
    }
   ],
   "source": [
    "projected_X"
   ]
  },
  {
   "cell_type": "code",
   "execution_count": 140,
   "id": "4be47922",
   "metadata": {},
   "outputs": [],
   "source": [
    "result = pd.DataFrame(projected_X, columns=['PC1'])\n",
    "result['y-axis'] = 0.0\n",
    "result['label'] = Y"
   ]
  },
  {
   "cell_type": "code",
   "execution_count": 141,
   "id": "36e5e6eb",
   "metadata": {},
   "outputs": [
    {
     "data": {
      "text/html": [
       "<div>\n",
       "<style scoped>\n",
       "    .dataframe tbody tr th:only-of-type {\n",
       "        vertical-align: middle;\n",
       "    }\n",
       "\n",
       "    .dataframe tbody tr th {\n",
       "        vertical-align: top;\n",
       "    }\n",
       "\n",
       "    .dataframe thead th {\n",
       "        text-align: right;\n",
       "    }\n",
       "</style>\n",
       "<table border=\"1\" class=\"dataframe\">\n",
       "  <thead>\n",
       "    <tr style=\"text-align: right;\">\n",
       "      <th></th>\n",
       "      <th>PC1</th>\n",
       "      <th>y-axis</th>\n",
       "      <th>label</th>\n",
       "    </tr>\n",
       "  </thead>\n",
       "  <tbody>\n",
       "    <tr>\n",
       "      <th>0</th>\n",
       "      <td>2.126965</td>\n",
       "      <td>0.0</td>\n",
       "      <td>Student 1</td>\n",
       "    </tr>\n",
       "    <tr>\n",
       "      <th>1</th>\n",
       "      <td>-0.522817</td>\n",
       "      <td>0.0</td>\n",
       "      <td>Student 2</td>\n",
       "    </tr>\n",
       "    <tr>\n",
       "      <th>2</th>\n",
       "      <td>-1.648597</td>\n",
       "      <td>0.0</td>\n",
       "      <td>Student 3</td>\n",
       "    </tr>\n",
       "    <tr>\n",
       "      <th>3</th>\n",
       "      <td>-3.279015</td>\n",
       "      <td>0.0</td>\n",
       "      <td>Student 4</td>\n",
       "    </tr>\n",
       "    <tr>\n",
       "      <th>4</th>\n",
       "      <td>0.436201</td>\n",
       "      <td>0.0</td>\n",
       "      <td>Student 5</td>\n",
       "    </tr>\n",
       "    <tr>\n",
       "      <th>5</th>\n",
       "      <td>1.634706</td>\n",
       "      <td>0.0</td>\n",
       "      <td>Student 6</td>\n",
       "    </tr>\n",
       "    <tr>\n",
       "      <th>6</th>\n",
       "      <td>2.143562</td>\n",
       "      <td>0.0</td>\n",
       "      <td>Student 7</td>\n",
       "    </tr>\n",
       "    <tr>\n",
       "      <th>7</th>\n",
       "      <td>-1.151391</td>\n",
       "      <td>0.0</td>\n",
       "      <td>Student 8</td>\n",
       "    </tr>\n",
       "    <tr>\n",
       "      <th>8</th>\n",
       "      <td>0.553813</td>\n",
       "      <td>0.0</td>\n",
       "      <td>Student 9</td>\n",
       "    </tr>\n",
       "    <tr>\n",
       "      <th>9</th>\n",
       "      <td>-1.565412</td>\n",
       "      <td>0.0</td>\n",
       "      <td>Student 10</td>\n",
       "    </tr>\n",
       "  </tbody>\n",
       "</table>\n",
       "</div>"
      ],
      "text/plain": [
       "        PC1  y-axis       label\n",
       "0  2.126965     0.0   Student 1\n",
       "1 -0.522817     0.0   Student 2\n",
       "2 -1.648597     0.0   Student 3\n",
       "3 -3.279015     0.0   Student 4\n",
       "4  0.436201     0.0   Student 5\n",
       "5  1.634706     0.0   Student 6\n",
       "6  2.143562     0.0   Student 7\n",
       "7 -1.151391     0.0   Student 8\n",
       "8  0.553813     0.0   Student 9\n",
       "9 -1.565412     0.0  Student 10"
      ]
     },
     "execution_count": 141,
     "metadata": {},
     "output_type": "execute_result"
    }
   ],
   "source": [
    "result.head(10)\n"
   ]
  },
  {
   "cell_type": "code",
   "execution_count": 142,
   "id": "0a6a2adf",
   "metadata": {},
   "outputs": [],
   "source": [
    "import matplotlib.pyplot as plt\n",
    "import seaborn as sns\n",
    "%matplotlib inline"
   ]
  },
  {
   "cell_type": "code",
   "execution_count": 143,
   "id": "34ecd0e1",
   "metadata": {},
   "outputs": [
    {
     "data": {
      "text/plain": [
       "Text(0.5, 1.0, 'PCA result')"
      ]
     },
     "execution_count": 143,
     "metadata": {},
     "output_type": "execute_result"
    },
    {
     "data": {
      "image/png": "[encoded data removed]",
      "text/plain": [
       "<Figure size 451.125x360 with 1 Axes>"
      ]
     },
     "metadata": {
      "needs_background": "light"
     },
     "output_type": "display_data"
    }
   ],
   "source": [
    "sns.lmplot('PC1', 'y-axis', data=result, fit_reg=False, # x-axis, y-axis, data, no line)\n",
    "scatter_kws={\"s\": 50}, # marker size\n",
    "hue=\"label\") # color\n",
    "# title\n",
    "plt.title('PCA result')\n"
   ]
  },
  {
   "cell_type": "code",
   "execution_count": null,
   "id": "49fe26a5",
   "metadata": {},
   "outputs": [],
   "source": []
  },
  {
   "cell_type": "code",
   "execution_count": null,
   "id": "2c496cd6",
   "metadata": {},
   "outputs": [],
   "source": []
  },
  {
   "cell_type": "code",
   "execution_count": null,
   "id": "dcd21442",
   "metadata": {},
   "outputs": [],
   "source": []
  },
  {
   "cell_type": "code",
   "execution_count": null,
   "id": "0a33862b",
   "metadata": {},
   "outputs": [],
   "source": [
    "\n"
   ]
  },
  {
   "cell_type": "code",
   "execution_count": null,
   "id": "78b61d88",
   "metadata": {},
   "outputs": [],
   "source": []
  },
  {
   "cell_type": "code",
   "execution_count": null,
   "id": "4796278e",
   "metadata": {},
   "outputs": [],
   "source": []
  }
 ],
 "metadata": {
  "kernelspec": {
   "display_name": "Python 3",
   "language": "python",
   "name": "python3"
  },
  "language_info": {
   "codemirror_mode": {
    "name": "ipython",
    "version": 3
   },
   "file_extension": ".py",
   "mimetype": "text/x-python",
   "name": "python",
   "nbconvert_exporter": "python",
   "pygments_lexer": "ipython3",
   "version": "3.8.8"
  }
 },
 "nbformat": 4,
 "nbformat_minor": 5
}
